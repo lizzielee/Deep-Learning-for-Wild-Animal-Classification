{
 "cells": [
  {
   "cell_type": "markdown",
   "metadata": {
    "colab_type": "text",
    "id": "z-__RAO5t53G"
   },
   "source": [
    "## Deep Learning Basics\n",
    "\n",
    "In this tutorial we we will implement a toy deep learning framework, to rapidly create neural network models. It should have some flexibilty and will be implemented so that new modules can be added and replaced just like in modern deep learning frameworks. We will be implementing some types of basic layers. We will also explore pytorch's nn package and see how pytorch accomplishes this goal and what are the extras that pytorch offers.\n"
   ]
  },
  {
   "cell_type": "markdown",
   "metadata": {
    "colab_type": "text",
    "id": "Y5AUSc3jufKi"
   },
   "source": [
    "### 1. Cleaner mini-batch-capable Linear + Softmax classifier\n"
   ]
  },
  {
   "cell_type": "markdown",
   "metadata": {
    "colab_type": "text",
    "id": "Vby-ogCCxYwa"
   },
   "source": [
    "In the previous assignment, we provided a basic implementation of a linear softmax classifier. In this assignment we will use this as a starting point for our deep learning library. \n",
    "\n",
    "**Softmax + Negative Log-Likelihood:** First we will re-implement the (softmax + negative log likelihood loss) computation, and its gradient computation. But we will additionally support batches of inputs and labels. \n"
   ]
  },
  {
   "cell_type": "code",
   "execution_count": 98,
   "metadata": {
    "colab": {
     "base_uri": "https://localhost:8080/",
     "height": 85
    },
    "colab_type": "code",
    "id": "j0JJRfD6ti7m",
    "outputId": "de7d6887-0b4e-4dad-89b4-b70186078954"
   },
   "outputs": [
    {
     "name": "stdout",
     "output_type": "stream",
     "text": [
      "Input predictions:  torch.Size([32, 10])\n",
      "Input labels:  torch.Size([32, 1])\n",
      "Output loss:  2.301769256591797\n",
      "Input prediction gradients:  torch.Size([32, 10])\n"
     ]
    }
   ],
   "source": [
    "import torch\n",
    "\n",
    "# This class combines Softmax + Negative-log likelihood loss.\n",
    "# Similar to the previous lab, but this implementation works for \n",
    "# batches of inputs and not just individual input vectors. \n",
    "# Here \"inputs\" is batchSize x sizePredictionScores, and\n",
    "#      \"labels\" is a vector of size batchSize.\n",
    "class toynn_CrossEntropyLoss(object): \n",
    "  \n",
    "    # Forward pass: -log softmax(input_{label})\n",
    "    def forward(self, scores, labels):\n",
    "      \n",
    "        # 1. Computing the softmax: exp(x) / sum (exp(x))\n",
    "        max_val = scores.max()  # This is to avoid variable overflows.\n",
    "        exp_inputs = (scores - max_val).exp()\n",
    "        # This is different than in the previous lab. Avoiding for loops here.\n",
    "        denominators = exp_inputs.sum(1).repeat(scores.size(1), 1).t()\n",
    "        self.predictions = torch.mul(exp_inputs, 1 / denominators)\n",
    "        \n",
    "        # 2. Computing the loss: -log(y_label).\n",
    "        # Check what gather does. Just avoiding another for loop here.\n",
    "        return -self.predictions.log().gather(1, labels.view(-1, 1)).mean()\n",
    "    \n",
    "    # Backward pass: y_hat - y\n",
    "    def backward(self, scores, labels):\n",
    "      \n",
    "        # Here we avoid computing softmax again in backward pass.\n",
    "        grad_inputs = self.predictions.clone()\n",
    "        \n",
    "        # Ok, Here we will use a for loop (but it is avoidable too).\n",
    "        for i in range(0, scores.size(0)):\n",
    "            grad_inputs[i][labels[i]] = grad_inputs[i][labels[i]] - 1\n",
    "            \n",
    "        return grad_inputs \n",
    "      \n",
    "      \n",
    "# Let's verify if the above seems to be Okay.\n",
    "batchSize = 32\n",
    "mock_scores = torch.zeros(batchSize, 10).normal_(0, 0.1)\n",
    "mock_labels = torch.zeros(batchSize, 1, dtype=torch.long).fill_(3)\n",
    "\n",
    "loss_fn = toynn_CrossEntropyLoss()\n",
    "\n",
    "loss = loss_fn.forward(mock_scores, mock_labels)\n",
    "mock_scores_grads = loss_fn.backward(mock_scores, mock_labels)\n",
    "\n",
    "print(\"Input predictions: \", mock_scores.shape)\n",
    "print(\"Input labels: \", mock_labels.shape)\n",
    "print(\"Output loss: \", loss.item())\n",
    "print(\"Input prediction gradients: \", mock_scores_grads.shape)"
   ]
  },
  {
   "cell_type": "markdown",
   "metadata": {
    "colab_type": "text",
    "id": "-DfaJM7RWk_0"
   },
   "source": [
    "\n",
    "**Linear Transformation:**  Next, we will re-implement the linear transformation computation $y=Wx+b$, and its gradient computation. But we will additionally support batches of inputs and labels. Making a batched implementation of this layer is easier because the only change is that now we have matrix-matrix multiplications as opposed to vector-matrix multiplications. Additionally, we will support returning the gradients with respect to the inputs to the linear transformation ($\\partial \\ell / \\partial x_j$). Notice that in our previous assignment we were only concerned with computing $\\partial \\ell / \\partial w_{ij}$ and  $\\partial \\ell / \\partial b_i$ (gradients for the parameters)."
   ]
  },
  {
   "cell_type": "code",
   "execution_count": 99,
   "metadata": {
    "colab": {
     "base_uri": "https://localhost:8080/",
     "height": 102
    },
    "colab_type": "code",
    "id": "2Lfp8zLNXVo_",
    "outputId": "c8736e93-1212-4fea-9d1d-0168bb16d90a"
   },
   "outputs": [
    {
     "name": "stdout",
     "output_type": "stream",
     "text": [
      "Input x:  torch.Size([32, 784])\n",
      "Weights W:  torch.Size([784, 10])\n",
      "Biases b:  torch.Size([10])\n",
      "Outputs:  torch.Size([32, 10])\n",
      "dL / dx:  torch.Size([32, 784])\n"
     ]
    }
   ],
   "source": [
    "class toynn_Linear(object):\n",
    "    def __init__(self, numInputs, numOutputs):\n",
    "        # Allocate tensors for the weight and bias parameters.\n",
    "        self.weight = torch.Tensor(numInputs, numOutputs).normal_(0, 0.01)\n",
    "        self.weight_grads = torch.Tensor(numInputs, numOutputs)\n",
    "        self.bias = torch.Tensor(numOutputs).zero_()\n",
    "        self.bias_grads = torch.Tensor(numOutputs)\n",
    "    \n",
    "    # Forward pass, inputs is a matrix of size batchSize x numInputs.\n",
    "    # Notice that compared to the previous assignment, each input vector\n",
    "    # is a row in this matrix.\n",
    "    def forward(self, inputs):\n",
    "        # This one needs no change, it just becomes \n",
    "        # a matrix x matrix multiplication\n",
    "        # as opposed to just vector x matrix multiplication as we had before.\n",
    "        return torch.matmul(inputs, self.weight) + self.bias\n",
    "    \n",
    "    # Backward pass, in addition to compute gradients for the weight and bias.\n",
    "    # It has to compute gradients with respect to inputs. \n",
    "    def backward(self, inputs, scores_grads):\n",
    "        self.weight_grads = torch.matmul(inputs.t(), scores_grads)\n",
    "        self.bias_grads = scores_grads.sum(0)\n",
    "        return torch.matmul(scores_grads, self.weight.t())\n",
    "\n",
    "# Input: batchSize x numInputs.\n",
    "numInputs = 1 * 28 * 28\n",
    "mock_inputs = torch.Tensor(batchSize, numInputs).normal_(0, 0.1)\n",
    "\n",
    "# Create the linear object to use.\n",
    "linear = toynn_Linear(numInputs, 10)\n",
    "\n",
    "# Forward and Backward passes:\n",
    "scores = linear.forward(mock_inputs)\n",
    "mock_inputs_grads = linear.backward(mock_inputs, mock_scores_grads)\n",
    "\n",
    "print(\"Input x: \", mock_inputs.shape)\n",
    "print(\"Weights W: \", linear.weight.shape)\n",
    "print(\"Biases b: \", linear.bias.shape)\n",
    "print(\"Outputs: \", scores.shape)\n",
    "print(\"dL / dx: \", mock_inputs_grads.shape)"
   ]
  },
  {
   "cell_type": "markdown",
   "metadata": {
    "colab_type": "text",
    "id": "NNiPMoctZ5T_"
   },
   "source": [
    "We are finished with a cleaner implementation of the linear + softmax + negative log-likelihood classifier that we implemented for the previous assignment: (1) It supports batches,  (2) the functions for forward and backward are nicely packaged in a python class, (3) the weight and bias matrices (as well as weight_grad and bias_grad matrices) are nicely created and initialized in the constructor of the toynn_Linear class, (4) the Linear class also computes $\\partial \\ell / \\partial x_j$'s, which will be useful to stack layers in order to train deeper models."
   ]
  },
  {
   "cell_type": "markdown",
   "metadata": {
    "colab_type": "text",
    "id": "PGdZ-bmxb473"
   },
   "source": [
    "### 2. Mini-batch SGD on FashionMNIST\n"
   ]
  },
  {
   "cell_type": "markdown",
   "metadata": {
    "colab_type": "text",
    "id": "zUfYXo8McA14"
   },
   "source": [
    "Given the newly implemented toynn_CrossEntropyLoss and toynn_Linear classes, let's train a classifier which is exactly the same as in the previous assignment, but now we can use batches of examples, as opposed to single examples during training with Stochastic (mini-batch) Gradient Descent (SGD). There are a few changes to make to the code from the previous assignment"
   ]
  },
  {
   "cell_type": "code",
   "execution_count": 16,
   "metadata": {
    "colab": {
     "base_uri": "https://localhost:8080/",
     "height": 612
    },
    "colab_type": "code",
    "id": "IJDmV7Xgb3RI",
    "outputId": "80a9363f-6d86-458b-e51c-e12dec424e2a"
   },
   "outputs": [
    {
     "name": "stdout",
     "output_type": "stream",
     "text": [
      "Train-epoch 0. Iteration 00100, Avg-Loss: 1.1319, Accuracy: 0.6881\n",
      "Train-epoch 0. Iteration 00200, Avg-Loss: 0.9479, Accuracy: 0.7210\n",
      "Train-epoch 0. Iteration 00300, Avg-Loss: 0.8595, Accuracy: 0.7377\n",
      "Train-epoch 0. Iteration 00400, Avg-Loss: 0.8033, Accuracy: 0.7514\n",
      "Train-epoch 0. Iteration 00500, Avg-Loss: 0.7660, Accuracy: 0.7590\n",
      "Train-epoch 0. Iteration 00600, Avg-Loss: 0.7348, Accuracy: 0.7675\n",
      "Validation-epoch 0. Avg-Loss: 0.5973, Accuracy: 0.7948\n",
      "Train-epoch 1. Iteration 00100, Avg-Loss: 0.5757, Accuracy: 0.8152\n",
      "Train-epoch 1. Iteration 00200, Avg-Loss: 0.5673, Accuracy: 0.8125\n",
      "Train-epoch 1. Iteration 00300, Avg-Loss: 0.5580, Accuracy: 0.8139\n",
      "Train-epoch 1. Iteration 00400, Avg-Loss: 0.5553, Accuracy: 0.8144\n",
      "Train-epoch 1. Iteration 00500, Avg-Loss: 0.5514, Accuracy: 0.8143\n",
      "Train-epoch 1. Iteration 00600, Avg-Loss: 0.5466, Accuracy: 0.8150\n",
      "Validation-epoch 1. Avg-Loss: 0.5475, Accuracy: 0.8106\n",
      "Train-epoch 2. Iteration 00100, Avg-Loss: 0.5270, Accuracy: 0.8262\n",
      "Train-epoch 2. Iteration 00200, Avg-Loss: 0.5202, Accuracy: 0.8243\n",
      "Train-epoch 2. Iteration 00300, Avg-Loss: 0.5158, Accuracy: 0.8265\n",
      "Train-epoch 2. Iteration 00400, Avg-Loss: 0.5151, Accuracy: 0.8271\n",
      "Train-epoch 2. Iteration 00500, Avg-Loss: 0.5123, Accuracy: 0.8276\n",
      "Train-epoch 2. Iteration 00600, Avg-Loss: 0.5086, Accuracy: 0.8287\n",
      "Validation-epoch 2. Avg-Loss: 0.5218, Accuracy: 0.8200\n",
      "Train-epoch 3. Iteration 00100, Avg-Loss: 0.4909, Accuracy: 0.8401\n",
      "Train-epoch 3. Iteration 00200, Avg-Loss: 0.4903, Accuracy: 0.8367\n",
      "Train-epoch 3. Iteration 00300, Avg-Loss: 0.4881, Accuracy: 0.8368\n",
      "Train-epoch 3. Iteration 00400, Avg-Loss: 0.4908, Accuracy: 0.8350\n",
      "Train-epoch 3. Iteration 00500, Avg-Loss: 0.4875, Accuracy: 0.8350\n",
      "Train-epoch 3. Iteration 00600, Avg-Loss: 0.4882, Accuracy: 0.8346\n",
      "Validation-epoch 3. Avg-Loss: 0.5070, Accuracy: 0.8237\n",
      "Train-epoch 4. Iteration 00100, Avg-Loss: 0.4812, Accuracy: 0.8483\n",
      "Train-epoch 4. Iteration 00200, Avg-Loss: 0.4814, Accuracy: 0.8422\n",
      "Train-epoch 4. Iteration 00300, Avg-Loss: 0.4793, Accuracy: 0.8394\n",
      "Train-epoch 4. Iteration 00400, Avg-Loss: 0.4749, Accuracy: 0.8395\n",
      "Train-epoch 4. Iteration 00500, Avg-Loss: 0.4764, Accuracy: 0.8380\n",
      "Train-epoch 4. Iteration 00600, Avg-Loss: 0.4748, Accuracy: 0.8388\n",
      "Validation-epoch 4. Avg-Loss: 0.4966, Accuracy: 0.8260\n"
     ]
    }
   ],
   "source": [
    "import torchvision\n",
    "import torchvision.transforms as transforms\n",
    "from torchvision.datasets import FashionMNIST\n",
    "\n",
    "# Removes, the need to call F.to_image ourselves.\n",
    "# Also, please look up what transforms.Normalize does.\n",
    "transform = transforms.Compose([transforms.ToTensor(),\n",
    "                               transforms.Normalize((0.5, 0.5, 0.5), \n",
    "                                                    (0.5, 0.5, 0.5))])\n",
    "\n",
    "# Load the training, and validation datasets.\n",
    "trainset = FashionMNIST(root = './data', train = True, transform = transform, download = True)\n",
    "valset = FashionMNIST(root = './data', train = False, transform = transform, download = True)\n",
    "\n",
    "# NEW: Pytorch DataLoader for iterating over batches.\n",
    "batchSize = 100\n",
    "\n",
    "# Shuffling is needed in case dataset is not shuffled by default.\n",
    "train_loader = torch.utils.data.DataLoader(dataset = trainset,\n",
    "                                           batch_size = batchSize,\n",
    "                                           shuffle = True)\n",
    "# We don't need to bach the validation set but let's do it anyway.\n",
    "val_loader = torch.utils.data.DataLoader(dataset = valset,\n",
    "                                         batch_size = batchSize,\n",
    "                                         shuffle = False) # No need.\n",
    "\n",
    "# Define a learning rate. \n",
    "learningRate = 1e-4\n",
    "\n",
    "# Define number of epochs.\n",
    "N = 5\n",
    "\n",
    "# Create the model.\n",
    "loss_fn = toynn_CrossEntropyLoss()\n",
    "linear_fn = toynn_Linear(1 * 28 * 28, 10)\n",
    "\n",
    "\n",
    "# log accuracies and losses.\n",
    "train_accuracies = []; val_accuracies = []\n",
    "train_losses = []; val_losses = []\n",
    "\n",
    "# Training loop. Please make sure you understand every single line of code below.\n",
    "# Go back to some of the previous steps in this lab if necessary.\n",
    "for epoch in range(0, N):\n",
    "    correct = 0.0\n",
    "    cum_loss = 0.0\n",
    "    \n",
    "    # Make a pass over the training data.\n",
    "    for (i, (inputs, labels)) in enumerate(train_loader):\n",
    "        inputs = inputs.view(batchSize, 1 * 28 * 28)\n",
    "        \n",
    "        # Forward pass. (Prediction stage)\n",
    "        scores = linear_fn.forward(inputs)\n",
    "        cum_loss += loss_fn.forward(scores, labels).item()\n",
    "        \n",
    "        # Count how many correct in this batch.\n",
    "        max_scores, max_labels = scores.max(1)\n",
    "        correct += (max_labels == labels).sum().item()\n",
    "        \n",
    "        #Backward pass. (Gradient computation stage)\n",
    "        scores_grads = loss_fn.backward(scores, labels)\n",
    "        grad_inputs = linear_fn.backward(inputs, scores_grads)\n",
    "        \n",
    "        # Parameter updates (SGD step).\n",
    "        linear_fn.weight.add_(-learningRate, linear_fn.weight_grads)\n",
    "        linear_fn.bias.add_(-learningRate, linear_fn.bias_grads)\n",
    "        \n",
    "        # Logging the current results on training.\n",
    "        if (i + 1) % 100 == 0:\n",
    "            print('Train-epoch %d. Iteration %05d, Avg-Loss: %.4f, Accuracy: %.4f' % \n",
    "                  (epoch, i + 1, cum_loss / (i + 1), correct / (i * batchSize + 1)))\n",
    "    \n",
    "    train_accuracies.append(correct / len(trainset))\n",
    "    train_losses.append(cum_loss / len(trainset))\n",
    "    \n",
    "    \n",
    "    # Make a pass over the validation data.\n",
    "    correct = 0.0\n",
    "    cum_loss = 0.0\n",
    "    for (i, (inputs, labels)) in enumerate(val_loader):\n",
    "        inputs = inputs.view(batchSize, 1 * 28 * 28)\n",
    "        \n",
    "        # Forward pass. (Prediction stage)\n",
    "        scores = linear_fn.forward(inputs)\n",
    "        cum_loss += loss_fn.forward(scores, labels).item()\n",
    "        \n",
    "         # Count how many correct in this batch.\n",
    "        max_scores, max_labels = scores.max(1)\n",
    "        correct += (max_labels == labels).sum().item()\n",
    "          \n",
    "    val_accuracies.append(correct / len(valset))\n",
    "    val_losses.append(cum_loss / (i + 1))\n",
    "            \n",
    "    # Logging the current results on validation.\n",
    "    print('Validation-epoch %d. Avg-Loss: %.4f, Accuracy: %.4f' % \n",
    "          (epoch, cum_loss / (i + 1), correct / len(valset)))"
   ]
  },
  {
   "cell_type": "markdown",
   "metadata": {
    "colab_type": "text",
    "id": "NheOKVEvktSU"
   },
   "source": [
    "We achieved an accuracy of 80% a lot faster than in the previous assignment, in fact we reached almost 83% in the same amount of epochs as before, so it seems mini-batching is helping to some extent. Try experimenting with different batch sizes and learning rates. Batch-size and learning rate are two hyper-parameters that are related in the optimization process, and is a current line of active research. For instance, under deep learning models, larger batch sizes do not offer as good generalization as smaller batches, which is bad because it is easier to parallelize code when using larger batch sizes. Also, a common strategy during training is to reduce (decay) the learning rate, as the training progresses to the later epochs, but a recent paper proposed to increase the batch size instead (for more, see: https://arxiv.org/abs/1711.00489 ). Probably for small datasets, keeping the learning rate fixed and batch size fixed will be fine, but as one moves to larger datasets, and deeper models, it becomes crucial to use some more advanced strategies."
   ]
  },
  {
   "cell_type": "markdown",
   "metadata": {
    "colab_type": "text",
    "id": "rL8RK38atNE5"
   },
   "source": [
    "### 3. The Rectified Linear Unit (ReLU) Activation Function.\n"
   ]
  },
  {
   "cell_type": "markdown",
   "metadata": {
    "colab_type": "text",
    "id": "w2SukZfmtbH_"
   },
   "source": [
    "We are close to implementing a neural network, we can accomplish this by stacking a linear operation on top of a Rectified Linear Unit (ReLU) activation, another linear operation, and the softmax + negative log likelihood loss. This is all it takes to create simple neural network with one hidden layer. First, let's implement the ReLU layer as we implemented the linear layer. "
   ]
  },
  {
   "cell_type": "code",
   "execution_count": 17,
   "metadata": {
    "colab": {
     "base_uri": "https://localhost:8080/",
     "height": 68
    },
    "colab_type": "code",
    "id": "i6ZplFBMwAkD",
    "outputId": "b9048a0d-abb7-4f0e-d71d-d854a9b96212"
   },
   "outputs": [
    {
     "name": "stdout",
     "output_type": "stream",
     "text": [
      "Input x:  tensor([-2.3000,  2.3000,  3.1000, -1.3000,  4.3000])\n",
      "Output:  tensor([0.0000, 2.3000, 3.1000, 0.0000, 4.3000])\n",
      "Grad x:  tensor([0., 1., 1., 0., 1.])\n"
     ]
    }
   ],
   "source": [
    "class toynn_ReLU(object):\n",
    "  \n",
    "    # Forward operation: f(x_i) = max(0, x_i)\n",
    "    def forward(self, inputs):\n",
    "        outputs = inputs.clone()\n",
    "        outputs[outputs < 0] = 0\n",
    "        return outputs\n",
    "    \n",
    "    # Make sure the backward pass is absolutely clear.\n",
    "    def backward(self, inputs, outputs_grad):\n",
    "        inputs_grad = outputs_grad.clone() # 1 * previous_grads\n",
    "        inputs_grad[inputs < 0] = 0  # or zero.\n",
    "        return inputs_grad\n",
    "      \n",
    "# Let's test it.\n",
    "x = torch.tensor([-2.3, 2.3, 3.1, -1.3, 4.3])\n",
    "relu_fn = toynn_ReLU()\n",
    "\n",
    "print(\"Input x: \", x)\n",
    "print(\"Output: \", relu_fn.forward(x))\n",
    "print(\"Grad x: \", relu_fn.backward(x, torch.ones(5)))"
   ]
  },
  {
   "cell_type": "markdown",
   "metadata": {
    "colab_type": "text",
    "id": "ajJ1z9qb0oqt"
   },
   "source": [
    "### 4. Forward Pass in a Two-Layer Neural Network"
   ]
  },
  {
   "cell_type": "markdown",
   "metadata": {
    "colab_type": "text",
    "id": "LK4M717G0v-8"
   },
   "source": [
    "We are going to show here how to perform inference in a two-layer neural network using the operations defined earlier. In the questions for the assignment it is your task to train this network and demonstrate superior accuracy."
   ]
  },
  {
   "cell_type": "code",
   "execution_count": 18,
   "metadata": {
    "colab": {
     "base_uri": "https://localhost:8080/",
     "height": 381
    },
    "colab_type": "code",
    "id": "pH4e6WI21DHw",
    "outputId": "9d3dacd1-728b-4ad8-f50d-4e4f8a04ea09"
   },
   "outputs": [
    {
     "name": "stdout",
     "output_type": "stream",
     "text": [
      "tensor([[0.0957, 0.1021, 0.0984, 0.0977, 0.1060, 0.0998, 0.1009, 0.1013, 0.1001,\n",
      "         0.0978]])\n"
     ]
    },
    {
     "data": {
      "image/png": "[encoded data removed]",
      "text/plain": [
       "<Figure size 576x396 with 1 Axes>"
      ]
     },
     "metadata": {
      "tags": []
     },
     "output_type": "display_data"
    }
   ],
   "source": [
    "import matplotlib\n",
    "matplotlib.rc('image', cmap = 'gray')\n",
    "import matplotlib.pyplot as plt\n",
    "\n",
    "# Setup the input variable x.\n",
    "img, label = trainset[0]\n",
    "x = img.view(1, 1 * 28 * 28)\n",
    "\n",
    "# Setup the number of inputs, hidden neurons, and outputs.\n",
    "nInputs = 1 * 28 * 28\n",
    "nHidden = 512\n",
    "nOutputs = 10\n",
    "\n",
    "# Create the model here.\n",
    "linear_fn1 = toynn_Linear(nInputs, nHidden)\n",
    "relu_fn = toynn_ReLU()\n",
    "linear_fn2 = toynn_Linear(nHidden, nOutputs)\n",
    "\n",
    "# Make predictions.\n",
    "a = linear_fn1.forward(x)\n",
    "z = relu_fn.forward(a)\n",
    "yhat = linear_fn2.forward(z)\n",
    "\n",
    "# Show the prediction scores for each class.\n",
    "# Yes, pytorch tensors already come with a softmax function.\n",
    "# We need it here because we hard-coded the softmax inside \n",
    "# the loss function.\n",
    "print(yhat.softmax(dim = 1)) \n",
    "\n",
    "plt.imshow(img[0]); plt.axis('off'); plt.grid(False)"
   ]
  },
  {
   "cell_type": "markdown",
   "metadata": {
    "colab_type": "text",
    "id": "8I1rONJT53Wu"
   },
   "source": [
    "Since the weights, and biases in the two linear layers [linear_fn1, linear_fn2] are not trained, the predictions are arbitrary at this point. One of the tasks for this assignment is for you to train the neural network."
   ]
  },
  {
   "cell_type": "markdown",
   "metadata": {
    "colab_type": "text",
    "id": "L_8eQuKBi7u0"
   },
   "source": [
    "## Assignment Questions [10pts + 3pts extra]"
   ]
  },
  {
   "cell_type": "markdown",
   "metadata": {
    "colab_type": "text",
    "id": "HpPb-CRh47Ct"
   },
   "source": [
    "* **[3pts] ** Provide code for the following activation functions:\n",
    "\n",
    "$$\\text{Sigmoid(x)} = \\frac{1}{1 + e^{-x}} = \\frac{e^x}{e^x + 1}$$\n",
    "\n",
    "$$\\text{Tanh(x)} = \\frac{e^{x} - e^{-x}}{e^{x} + e^{-x}}$$\n",
    "\n",
    "$$ \\text{LeakyReLU}(x) = \\begin{cases} \n",
    "      0.01 x & x < 0 \\\\\n",
    "      x & x \\geq 0 \n",
    "\\end{cases}$$"
   ]
  },
  {
   "cell_type": "code",
   "execution_count": 0,
   "metadata": {
    "colab": {},
    "colab_type": "code",
    "id": "0ReR6YZC47eW"
   },
   "outputs": [],
   "source": [
    "import math\n",
    "from math import exp\n",
    "\n",
    "# Sigmoid of x.\n",
    "class toynn_Sigmoid:\n",
    "    def forward(self, x):\n",
    "        # Forward pass.\n",
    "        outputs = x.exp() / (x.exp() + 1)\n",
    "        return outputs\n",
    "    \n",
    "    def backward(self, x, output_grads):\n",
    "        # Backward pass\n",
    "        inputs_grad = x.exp() / (x.exp() + 1) ** 2\n",
    "        return inputs_grad * output_grads\n",
    "        \n",
    "# Hyperbolic tangent.\n",
    "class toynn_Tanh:\n",
    "    def forward(self, x):\n",
    "        # Forward pass.\n",
    "        outputs = x.exp() - (-x).exp() / (x.exp() + (-x).exp())\n",
    "        return outputs\n",
    "     \n",
    "    def backward(self, x, output_grads):\n",
    "        # Backward pass\n",
    "        inputs_grad = 4 * (2*x).exp() / ((2*x).exp()+1)**2\n",
    "        return inputs_grad * output_grads\n",
    "      \n",
    "# LeakyReLU of x.\n",
    "class toynn_LeakyReLU:\n",
    "    def forward(self, x):\n",
    "        # Forward pass.\n",
    "        outputs = x.clone()\n",
    "        outputs[outputs < 0] = 0.01 * outputs\n",
    "        return outputs\n",
    "    \n",
    "    def backward(self, x, output_grads):\n",
    "        # Backward pass\n",
    "        inputs_grad = output_grads.clone()\n",
    "        inputs_grad[x < 0] *= 0.01\n",
    "        return inputs_grad * output_grads"
   ]
  },
  {
   "cell_type": "markdown",
   "metadata": {
    "colab_type": "text",
    "id": "tAMnCGwv-zJN"
   },
   "source": [
    "* **[2pts] ** Provide code for the binary cross entropy loss function:\n",
    "\n",
    "$$\\ell(y, \\hat{y}) = -\\sum_{i=1}^{i=n} [y_i\\text{log}(\\hat{y}_i) + (1 - y_i)\\text{log}(1 - \\hat{y}_i)]$$,\n",
    "\n",
    "where $n$ is the number of outputs (e.g. the size of vectors $y$ and $\\hat{y}$), the entries in the target vector $y_i$ are binary $\\in \\{0,1\\}$ and $y_i$ are typically the outputs of a sigmoid layer. Remember that the backward pass does not return a scalar but a vector containing the values for $\\partial \\ell / \\partial \\hat{y}_i$, henceforth a vector of the same size as $\\hat{y}$."
   ]
  },
  {
   "cell_type": "code",
   "execution_count": 0,
   "metadata": {
    "colab": {
     "base_uri": "https://localhost:8080/",
     "height": 34
    },
    "colab_type": "code",
    "id": "QVGFUt7roWlW",
    "outputId": "53767b00-bb4e-4579-e76f-d64828e1044b"
   },
   "outputs": [
    {
     "data": {
      "text/plain": [
       "2"
      ]
     },
     "execution_count": 51,
     "metadata": {
      "tags": []
     },
     "output_type": "execute_result"
    }
   ],
   "source": [
    "inn = torch.tensor([[2,3,4],[3,4,5]])\n",
    "la = torch.tensor([[0,1,0],[1,0,0]])\n",
    "inn_1 = inn.sum(1).repeat(inn.size(1), 1).t()\n",
    "inn_2 = torch.mul(inn, 1/inn_1)\n",
    "inn_3 = torch.gather(inn, 1, la.view(2, 3))\n",
    "inn_3"
   ]
  },
  {
   "cell_type": "code",
   "execution_count": 0,
   "metadata": {
    "colab": {},
    "colab_type": "code",
    "id": "9q9acvx4jw0x"
   },
   "outputs": [],
   "source": [
    "class toynn_CrossEntropyLoss(object): \n",
    "  \n",
    "    # Forward pass: -log softmax(input_{label})\n",
    "    def forward(self, scores, labels):\n",
    "      \n",
    "        # 1. Computing the softmax: exp(x) / sum (exp(x))\n",
    "        max_val = scores.max()  # This is to avoid variable overflows.\n",
    "        exp_inputs = (scores - max_val).exp()\n",
    "        # This is different than in the previous lab. Avoiding for loops here.\n",
    "        denominators = exp_inputs.sum(1).repeat(scores.size(1), 1).t()\n",
    "        self.predictions = torch.mul(exp_inputs, 1 / denominators)\n",
    "        \n",
    "        # 2. Computing the loss: -log(y_label).\n",
    "        # Check what gather does. Just avoiding another for loop here.\n",
    "        return -self.predictions.log().gather(1, labels.view(-1, 1)).mean()\n",
    "    \n",
    "    # Backward pass: y_hat - y\n",
    "    def backward(self, scores, labels):\n",
    "      \n",
    "        # Here we avoid computing softmax again in backward pass.\n",
    "        grad_inputs = self.predictions.clone()\n",
    "        \n",
    "        # Ok, Here we will use a for loop (but it is avoidable too).\n",
    "        for i in range(0, scores.size(0)):\n",
    "            grad_inputs[i][labels[i]] = grad_inputs[i][labels[i]] - 1\n",
    "            \n",
    "        return grad_inputs "
   ]
  },
  {
   "cell_type": "code",
   "execution_count": 0,
   "metadata": {
    "colab": {},
    "colab_type": "code",
    "id": "zVC2BJpa-5Ka"
   },
   "outputs": [],
   "source": [
    "# Binary cross entropy loss. \n",
    "# Useful for classification when the classes are not mutually exclusive.\n",
    "# For instance, when both shoe, and dress, are correct labels for an image.\n",
    "# In other words, when images have multiple labels per image.\n",
    "\n",
    "import math\n",
    "from math import log\n",
    "\n",
    "class toynn_BCELoss:\n",
    "    def forward(self, predictions, targets):\n",
    "        # Forward pass.\n",
    "        # 1. Computing the softmax: exp(x) / sum (exp(x))\n",
    "        max_val = predictions.max()  # This is to avoid variable overflows.\n",
    "        exp_inputs = (predictions - max_val).exp()\n",
    "        # This is different than in the previous lab. Avoiding for loops here.\n",
    "        denominators = exp_inputs.sum(1).repeat(predictions.size(1), 1).t()\n",
    "        scores = torch.mul(exp_inputs, 1 / denominators)\n",
    "        for_output = torch.zeros([1, scores.size(0)])\n",
    "        #for i in range(0, predictions.size(0)):\n",
    "          #for j in range(0, predictions.size(1)):\n",
    "          #for_output[i] = - (targets[i] * predictions[i].log() + (1 - targets[i]) * (1 - predictions[i].log()))\n",
    "        for i in range(0, predictions.size(0)):\n",
    "            currloss = 0\n",
    "            for j in range(0, predictions.size(1)):\n",
    "                 currloss += -(targets[i][j].item() * log(scores[i][j].item()) + (1 - targets[i][j].item()) * log(1 - scores[i][j].item()))\n",
    "            for_output[0][i] = currloss\n",
    "        return for_output.sum()\n",
    "        \n",
    "    def backward(self, predictions, targets):\n",
    "        # Backward pass.\n",
    "        inputs_grad = predictions.clone()\n",
    "        for i in range(0, predictions.size(0)):\n",
    "          for j in range(0, predictions.size(1)):\n",
    "            inputs_grad[i][j] = -(targets[i][j].item() / inputs_grad[i][j].item()) - (1 - targets[i][j].item()) / (1 - inputs_grad[i][j].item()) \n",
    "        #for i in range(0, predictions.size(0)):\n",
    "          \n",
    "            #inputs_grad[i][j] = -(targets[i] / inputs_grad[i][j])\n",
    "        return inputs_grad"
   ]
  },
  {
   "cell_type": "markdown",
   "metadata": {
    "colab_type": "text",
    "id": "LGIxg3q5i_bl"
   },
   "source": [
    "* **[5pts] ** Train the two-layer Neural Network as defined in Section 3 of this Assignment on FashionMNIST using toynn. Include below the code for training this neural network and report the training, validation plots for loss and accuracy. The code should be similar to the code in Section 2 of this assignment, please follow that convention."
   ]
  },
  {
   "cell_type": "code",
   "execution_count": 0,
   "metadata": {
    "colab": {
     "base_uri": "https://localhost:8080/",
     "height": 731
    },
    "colab_type": "code",
    "id": "UzQc9ZtKjnf0",
    "outputId": "b8d4c4cc-c6f4-43f8-a2b7-83ca63dd3b2a"
   },
   "outputs": [
    {
     "name": "stdout",
     "output_type": "stream",
     "text": [
      "Train-epoch 0. Iteration 00100, Avg-Loss: 1.5834, Accuracy: 0.6280\n",
      "Train-epoch 0. Iteration 00200, Avg-Loss: 1.3005, Accuracy: 0.6763\n",
      "Train-epoch 0. Iteration 00300, Avg-Loss: 1.1570, Accuracy: 0.6963\n",
      "Train-epoch 0. Iteration 00400, Avg-Loss: 1.0646, Accuracy: 0.7090\n",
      "Train-epoch 0. Iteration 00500, Avg-Loss: 0.9983, Accuracy: 0.7206\n",
      "Train-epoch 0. Iteration 00600, Avg-Loss: 0.9476, Accuracy: 0.7296\n",
      "Validation-epoch 0. Avg-Loss: 0.7002, Accuracy: 0.7674\n",
      "Train-epoch 1. Iteration 00100, Avg-Loss: 0.6746, Accuracy: 0.7913\n",
      "Train-epoch 1. Iteration 00200, Avg-Loss: 0.6624, Accuracy: 0.7897\n",
      "Train-epoch 1. Iteration 00300, Avg-Loss: 0.6576, Accuracy: 0.7867\n",
      "Train-epoch 1. Iteration 00400, Avg-Loss: 0.6483, Accuracy: 0.7880\n",
      "Train-epoch 1. Iteration 00500, Avg-Loss: 0.6396, Accuracy: 0.7905\n",
      "Train-epoch 1. Iteration 00600, Avg-Loss: 0.6325, Accuracy: 0.7922\n",
      "Validation-epoch 1. Avg-Loss: 0.6142, Accuracy: 0.7944\n",
      "Train-epoch 2. Iteration 00100, Avg-Loss: 0.5738, Accuracy: 0.8144\n",
      "Train-epoch 2. Iteration 00200, Avg-Loss: 0.5862, Accuracy: 0.8064\n",
      "Train-epoch 2. Iteration 00300, Avg-Loss: 0.5780, Accuracy: 0.8096\n",
      "Train-epoch 2. Iteration 00400, Avg-Loss: 0.5769, Accuracy: 0.8088\n",
      "Train-epoch 2. Iteration 00500, Avg-Loss: 0.5742, Accuracy: 0.8092\n",
      "Train-epoch 2. Iteration 00600, Avg-Loss: 0.5722, Accuracy: 0.8096\n",
      "Validation-epoch 2. Avg-Loss: 0.5751, Accuracy: 0.8045\n",
      "Train-epoch 3. Iteration 00100, Avg-Loss: 0.5446, Accuracy: 0.8240\n",
      "Train-epoch 3. Iteration 00200, Avg-Loss: 0.5431, Accuracy: 0.8207\n",
      "Train-epoch 3. Iteration 00300, Avg-Loss: 0.5450, Accuracy: 0.8187\n",
      "Train-epoch 3. Iteration 00400, Avg-Loss: 0.5437, Accuracy: 0.8178\n",
      "Train-epoch 3. Iteration 00500, Avg-Loss: 0.5412, Accuracy: 0.8176\n",
      "Train-epoch 3. Iteration 00600, Avg-Loss: 0.5399, Accuracy: 0.8181\n",
      "Validation-epoch 3. Avg-Loss: 0.5528, Accuracy: 0.8122\n",
      "Train-epoch 4. Iteration 00100, Avg-Loss: 0.5267, Accuracy: 0.8285\n",
      "Train-epoch 4. Iteration 00200, Avg-Loss: 0.5259, Accuracy: 0.8252\n",
      "Train-epoch 4. Iteration 00300, Avg-Loss: 0.5247, Accuracy: 0.8260\n",
      "Train-epoch 4. Iteration 00400, Avg-Loss: 0.5220, Accuracy: 0.8251\n",
      "Train-epoch 4. Iteration 00500, Avg-Loss: 0.5192, Accuracy: 0.8262\n",
      "Train-epoch 4. Iteration 00600, Avg-Loss: 0.5187, Accuracy: 0.8255\n",
      "Validation-epoch 4. Avg-Loss: 0.5353, Accuracy: 0.8141\n",
      "Train-epoch 5. Iteration 00100, Avg-Loss: 0.5176, Accuracy: 0.8319\n",
      "Train-epoch 5. Iteration 00200, Avg-Loss: 0.5116, Accuracy: 0.8300\n",
      "Train-epoch 5. Iteration 00300, Avg-Loss: 0.5120, Accuracy: 0.8279\n",
      "Train-epoch 5. Iteration 00400, Avg-Loss: 0.5079, Accuracy: 0.8292\n",
      "Train-epoch 5. Iteration 00500, Avg-Loss: 0.5050, Accuracy: 0.8293\n",
      "Train-epoch 5. Iteration 00600, Avg-Loss: 0.5033, Accuracy: 0.8301\n",
      "Validation-epoch 5. Avg-Loss: 0.5234, Accuracy: 0.8165\n"
     ]
    }
   ],
   "source": [
    "# Your code goes here.\n",
    "import torch\n",
    "import torchvision\n",
    "import torchvision.transforms as transforms\n",
    "from torchvision.datasets import FashionMNIST\n",
    "\n",
    "# Removes, the need to call F.to_image ourselves.\n",
    "# Also, please look up what transforms.Normalize does.\n",
    "transform = transforms.Compose([transforms.ToTensor(),\n",
    "                               transforms.Normalize((0.5, 0.5, 0.5), \n",
    "                                                    (0.5, 0.5, 0.5))])\n",
    "\n",
    "# Load the training, and validation datasets.\n",
    "trainset = FashionMNIST(root = './data', train = True, transform = transform, download = True)\n",
    "valset = FashionMNIST(root = './data', train = False, transform = transform, download = True)\n",
    "\n",
    "# NEW: Pytorch DataLoader for iterating over batches.\n",
    "batchSize = 100\n",
    "\n",
    "# Shuffling is needed in case dataset is not shuffled by default.\n",
    "train_loader = torch.utils.data.DataLoader(dataset = trainset,\n",
    "                                           batch_size = batchSize,\n",
    "                                           shuffle = True)\n",
    "# We don't need to bach the validation set but let's do it anyway.\n",
    "val_loader = torch.utils.data.DataLoader(dataset = valset,\n",
    "                                         batch_size = batchSize,\n",
    "                                         shuffle = False) # No need.\n",
    "\n",
    "# Define a learning rate. \n",
    "learningRate = 1e-3\n",
    "\n",
    "# Define number of epochs.\n",
    "N = 6\n",
    "\n",
    "# Create the model.\n",
    "linear_fn1 = toynn_Linear(nInputs, nHidden)\n",
    "relu_fn = toynn_ReLU()\n",
    "linear_fn2 = toynn_Linear(nHidden, nOutputs)\n",
    "\n",
    "# Setup the number of inputs, hidden neurons, and outputs.\n",
    "nInputs = 1 * 28 * 28\n",
    "nHidden = 512\n",
    "nOutputs = 10\n",
    "\n",
    "# log accuracies and losses.\n",
    "train_accuracies = []; val_accuracies = []\n",
    "train_losses = []; val_losses = []\n",
    "\n",
    "# Training loop. Please make sure you understand every single line of code below.\n",
    "# Go back to some of the previous steps in this lab if necessary.\n",
    "for epoch in range(0, N):\n",
    "    correct = 0.0\n",
    "    cum_loss = 0.0\n",
    "    \n",
    "    # Make a pass over the training data.\n",
    "    for (i, (inputs, labels)) in enumerate(train_loader):\n",
    "        inputs = inputs.view(batchSize, 1 * 28 * 28)\n",
    "        \n",
    "        # Forward pass. (Prediction stage)\n",
    "        a = linear_fn1.forward(inputs)\n",
    "        z = relu_fn.forward(a)\n",
    "        scores = linear_fn2.forward(z)\n",
    "        cum_loss += loss_fn.forward(scores, labels).item()\n",
    "        \n",
    "        # Count how many correct in this batch.\n",
    "        max_scores, max_labels = scores.max(1)\n",
    "        correct += (max_labels == labels).sum().item()\n",
    "        \n",
    "        #Backward pass. (Gradient computation stage)\n",
    "        scores_grads = loss_fn.backward(scores, labels)\n",
    "        z_grads = linear_fn2.backward(z, scores_grads)\n",
    "        a_grads = relu_fn.backward(a, z_grads)\n",
    "        grad_inputs = linear_fn1.backward(inputs, a_grads)\n",
    "        \n",
    "        # Parameter updates (SGD step).\n",
    "        linear_fn1.weight.add_(-learningRate, linear_fn1.weight_grads)\n",
    "        linear_fn1.bias.add_(-learningRate, linear_fn1.bias_grads)\n",
    "        \n",
    "        # Logging the current results on training.\n",
    "        if (i + 1) % 100 == 0:\n",
    "            print('Train-epoch %d. Iteration %05d, Avg-Loss: %.4f, Accuracy: %.4f' % \n",
    "                  (epoch, i + 1, cum_loss / (i + 1), correct / (i * batchSize + 1)))\n",
    "    \n",
    "    train_accuracies.append(correct / len(trainset))\n",
    "    train_losses.append(cum_loss / len(trainset))\n",
    "    \n",
    "    \n",
    "    # Make a pass over the validation data.\n",
    "    correct = 0.0\n",
    "    cum_loss = 0.0\n",
    "    for (i, (inputs, labels)) in enumerate(val_loader):\n",
    "        inputs = inputs.view(batchSize, 1 * 28 * 28)\n",
    "        \n",
    "        # Forward pass. (Prediction stage)\n",
    "        a = linear_fn1.forward(inputs)\n",
    "        z = relu_fn.forward(a)\n",
    "        scores = linear_fn2.forward(z)\n",
    "        cum_loss += loss_fn.forward(scores, labels).item()\n",
    "        \n",
    "         # Count how many correct in this batch.\n",
    "        max_scores, max_labels = scores.max(1)\n",
    "        correct += (max_labels == labels).sum().item()\n",
    "          \n",
    "    val_accuracies.append(correct / len(valset))\n",
    "    val_losses.append(cum_loss / (i + 1))\n",
    "            \n",
    "    # Logging the current results on validation.\n",
    "    print('Validation-epoch %d. Avg-Loss: %.4f, Accuracy: %.4f' % \n",
    "          (epoch, cum_loss / (i + 1), correct / len(valset)))"
   ]
  },
  {
   "cell_type": "code",
   "execution_count": 0,
   "metadata": {
    "colab": {
     "base_uri": "https://localhost:8080/",
     "height": 279
    },
    "colab_type": "code",
    "id": "WZ66auB3WXbn",
    "outputId": "ba2198c1-171d-40d3-86f5-f79ca5199ed9"
   },
   "outputs": [
    {
     "data": {
      "image/png": "[encoded data removed]",
      "text/plain": [
       "<Figure size 720x288 with 2 Axes>"
      ]
     },
     "metadata": {
      "tags": []
     },
     "output_type": "display_data"
    }
   ],
   "source": [
    "import matplotlib.pyplot as plt\n",
    "plt.figure(figsize = (10, 4))\n",
    "plt.subplot(1, 2, 1)\n",
    "plt.plot(val_losses, 'bo-', label = 'val-loss')\n",
    "plt.plot(train_losses, 'ro-', label = 'train-loss')\n",
    "plt.ylabel('loss')\n",
    "plt.xlabel('epoch')\n",
    "plt.legend(['validation', 'training'], loc='upper right')\n",
    "\n",
    "plt.subplot(1, 2, 2)\n",
    "plt.plot(val_accuracies, 'bo-', label = 'val-acc')\n",
    "plt.plot(train_accuracies, 'ro-', label = 'train-acc')\n",
    "plt.ylabel('accuracy')\n",
    "plt.xlabel('epoch')\n",
    "plt.legend(['validation', 'training'], loc='lower right')\n",
    "plt.show()"
   ]
  },
  {
   "cell_type": "markdown",
   "metadata": {
    "colab_type": "text",
    "id": "gXlKZ2eQj9Y7"
   },
   "source": [
    "* **[3pts (extra)]** Train a Neural Network **using toynn** on the CIFAR 10 Dataset (torchvision.datasets.CIFAR10). Include the code for defining, and training the neural network, as well as plots for training, validation for loss and accuracy. Show the predictions for one example of this dataset. Write down below your code in bold face the accuracy you obtained and in how many epochs. I will post the highest accuracies that people obtained for this part."
   ]
  },
  {
   "cell_type": "code",
   "execution_count": 199,
   "metadata": {
    "colab": {
     "base_uri": "https://localhost:8080/",
     "height": 68
    },
    "colab_type": "code",
    "id": "feWB2DO7lWQv",
    "outputId": "bbf2d8e6-3c00-4e55-f5d0-557c200916fe"
   },
   "outputs": [
    {
     "name": "stdout",
     "output_type": "stream",
     "text": [
      "Files already downloaded and verified\n",
      "Files already downloaded and verified\n"
     ]
    },
    {
     "data": {
      "text/plain": [
       "torch.Size([3, 32, 32])"
      ]
     },
     "execution_count": 199,
     "metadata": {
      "tags": []
     },
     "output_type": "execute_result"
    }
   ],
   "source": [
    "# Your code goes here.\n",
    "from torchvision.datasets import CIFAR10\n",
    "\n",
    "transform = transforms.Compose([transforms.ToTensor(),\n",
    "                               transforms.Normalize((0.5, 0.5, 0.5), \n",
    "                                                    (0.5, 0.5, 0.5))])\n",
    "\n",
    "# Load the training, and validation datasets.\n",
    "trainset = CIFAR10(root = './data', train = True, transform = transform, download = True)\n",
    "valset = CIFAR10(root = './data', train = False, transform = transform, download = True)\n",
    "\n",
    "img, label = trainset[0]\n",
    "img.shape"
   ]
  },
  {
   "cell_type": "code",
   "execution_count": 213,
   "metadata": {
    "colab": {
     "base_uri": "https://localhost:8080/",
     "height": 187
    },
    "colab_type": "code",
    "id": "MHn0lVhy86Mp",
    "outputId": "14025544-2e40-49ce-c85e-080ee2baa9ad",
    "scrolled": true
   },
   "outputs": [
    {
     "name": "stdout",
     "output_type": "stream",
     "text": [
      "Validation-epoch 0. Avg-Loss: 2.0983, Accuracy: 0.2778\n",
      "Validation-epoch 1. Avg-Loss: 2.0136, Accuracy: 0.3072\n",
      "Validation-epoch 2. Avg-Loss: 1.9600, Accuracy: 0.3279\n",
      "Validation-epoch 3. Avg-Loss: 1.9214, Accuracy: 0.3431\n",
      "Validation-epoch 4. Avg-Loss: 1.8914, Accuracy: 0.3540\n",
      "Validation-epoch 5. Avg-Loss: 1.8672, Accuracy: 0.3626\n",
      "Validation-epoch 6. Avg-Loss: 1.8473, Accuracy: 0.3678\n",
      "Validation-epoch 7. Avg-Loss: 1.8303, Accuracy: 0.3733\n",
      "Validation-epoch 8. Avg-Loss: 1.8157, Accuracy: 0.3771\n",
      "Validation-epoch 9. Avg-Loss: 1.8026, Accuracy: 0.3822\n"
     ]
    }
   ],
   "source": [
    "\n",
    "# NEW: Pytorch DataLoader for iterating over batches.\n",
    "batchSize = 100\n",
    "\n",
    "# Shuffling is needed in case dataset is not shuffled by default.\n",
    "train_loader = torch.utils.data.DataLoader(dataset = trainset,\n",
    "                                           batch_size = batchSize,\n",
    "                                           shuffle = True)\n",
    "# We don't need to bach the validation set but let's do it anyway.\n",
    "val_loader = torch.utils.data.DataLoader(dataset = valset,\n",
    "                                         batch_size = batchSize,\n",
    "                                         shuffle = False) # No need.\n",
    "\n",
    "# Define a learning rate. \n",
    "learningRate = 1e-4\n",
    "\n",
    "# Define number of epochs.\n",
    "N = 10\n",
    "\n",
    "# Setup the number of inputs, hidden neurons, and outputs.\n",
    "nInputs = 3 * 32 * 32\n",
    "nHidden = 512\n",
    "nOutputs = 10\n",
    "\n",
    "# Create the model.\n",
    "linear_fn1 = toynn_Linear(nInputs, nHidden)\n",
    "sig_fn = toynn_ReLU()\n",
    "linear_fn2 = toynn_Linear(nHidden, nOutputs)\n",
    "\n",
    "loss_fn = toynn_CrossEntropyLoss()\n",
    "\n",
    "# log accuracies and losses.\n",
    "train_accuracies = []; val_accuracies = []\n",
    "train_losses = []; val_losses = []\n",
    "\n",
    "# Training loop. Please make sure you understand every single line of code below.\n",
    "# Go back to some of the previous steps in this lab if necessary.\n",
    "for epoch in range(0, N):\n",
    "    correct = 0.0\n",
    "    cum_loss = 0.0\n",
    "    \n",
    "    # Make a pass over the training data.\n",
    "    for (i, (inputs, labels)) in enumerate(train_loader):\n",
    "        inputs = inputs.view(batchSize, 3 * 32 * 32)\n",
    "        \n",
    "        # Forward pass. (Prediction stage)\n",
    "        a = linear_fn1.forward(inputs)\n",
    "        z = sig_fn.forward(a)\n",
    "        scores = linear_fn2.forward(z)\n",
    "        #onehot = torch.zeros([scores.size(0), scores.size(1)])\n",
    "        #for j in range(0, scores.size(0)):\n",
    "          #onehot[j][labels[j]] = 1\n",
    "        cum_loss += loss_fn.forward(scores, labels).item()\n",
    "        \n",
    "        # Count how many correct in this batch.\n",
    "        max_scores, max_labels = scores.max(1)\n",
    "        correct += (max_labels == labels).sum().item()\n",
    "        \n",
    "        #Backward pass. (Gradient computation stage)\n",
    "        score_grads = loss_fn.backward(scores, labels)\n",
    "        z_grads = linear_fn2.backward(z, score_grads)\n",
    "        a_grads = sig_fn.backward(a, z_grads)\n",
    "        input_grades = linear_fn1.backward(inputs, a_grads)\n",
    "        \n",
    "        # Parameter updates (SGD step).\n",
    "        linear_fn1.weight.add_(-learningRate, linear_fn1.weight_grads)\n",
    "        linear_fn1.bias.add_(-learningRate, linear_fn1.bias_grads)\n",
    "        #linear_fn2.weight.add(-learningRate, linear_fn2.weight_grads)\n",
    "        #linear_fn2.bias.add_(-learningRate, linear_fn2.bias_grads)\n",
    "        \n",
    "        # Logging the current results on training.\n",
    "        #if (i + 1) % 100 == 0:\n",
    "            #print('Train-epoch %d. Iteration %05d, Avg-Loss: %.4f, Accuracy: %.4f' % \n",
    "                  #(epoch, i + 1, cum_loss / (i + 1), correct / (i * batchSize + 1)))\n",
    "    \n",
    "    train_accuracies.append(correct / len(trainset))\n",
    "    train_losses.append(cum_loss / len(trainset))\n",
    "    \n",
    "    \n",
    "    # Make a pass over the validation data.\n",
    "    correct = 0.0\n",
    "    cum_loss = 0.0\n",
    "    for (i, (inputs, labels)) in enumerate(val_loader):\n",
    "        inputs = inputs.view(batchSize, 3 * 32 * 32)\n",
    "        \n",
    "        # Forward pass. (Prediction stage)\n",
    "        a = linear_fn1.forward(inputs)\n",
    "        z = sig_fn.forward(a)\n",
    "        scores = linear_fn2.forward(z)\n",
    "        cum_loss += loss_fn.forward(scores, labels).item()\n",
    "        \n",
    "         # Count how many correct in this batch.\n",
    "        max_scores, max_labels = scores.max(1)\n",
    "        correct += (max_labels == labels).sum().item()\n",
    "          \n",
    "    val_accuracies.append(correct / len(valset))\n",
    "    val_losses.append(cum_loss / (i + 1))\n",
    "            \n",
    "    # Logging the current results on validation.\n",
    "    print('Validation-epoch %d. Avg-Loss: %.4f, Accuracy: %.4f' % \n",
    "          (epoch, cum_loss / (i + 1), correct / len(valset)))"
   ]
  },
  {
   "cell_type": "markdown",
   "metadata": {
    "colab_type": "text",
    "id": "7VLqNpM79-3l"
   },
   "source": [
    "### **I obtained a validation accuracy of 38% after 10 epochs.**"
   ]
  }
 ],
 "metadata": {
  "colab": {
   "collapsed_sections": [],
   "name": "Hanyu_Li_deep_learning_assignment.ipynb",
   "provenance": [],
   "version": "0.3.2"
  },
  "kernelspec": {
   "display_name": "Python 3",
   "language": "python",
   "name": "python3"
  },
  "language_info": {
   "codemirror_mode": {
    "name": "ipython",
    "version": 3
   },
   "file_extension": ".py",
   "mimetype": "text/x-python",
   "name": "python",
   "nbconvert_exporter": "python",
   "pygments_lexer": "ipython3",
   "version": "3.7.1"
  }
 },
 "nbformat": 4,
 "nbformat_minor": 1
}
